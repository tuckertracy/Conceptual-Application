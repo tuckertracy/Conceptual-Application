{
 "cells": [
  {
   "cell_type": "markdown",
   "metadata": {},
   "source": [
    "Q1: For each model, what were the optimal hyperparameters?\n",
    "\n",
    "A1: \n",
    "- Linear Regression - {'fit_intercept': True, 'positive': True}\n",
    "- Support Vector Regression - {'C': 1, 'gamma': 1, 'kernel': 'linear'}\n",
    "- Decision Tree Regression - {'criterion': 'absolute_error', 'max_depth': None, 'max_features': 'log2', 'min_samples_leaf': 4, 'min_samples_split': 10, 'splitter': 'best'}\n",
    "- Neural Network - {'activation': 'relu', 'alpha': 0.05, 'hidden_layer_sizes': (50, 50, 50), 'learning_rate': 'adaptive', 'max_iter': 1000, 'solver': 'adam'}"
   ]
  },
  {
   "cell_type": "markdown",
   "metadata": {},
   "source": [
    "Q2: What model performed the best? Did multiple models perform similarly?\n",
    "\n",
    "A2:The linear regression performed best. It had an average R-squared score of 0.81 and a root mean squred error of 0.06. The decison tree regression and support vector regression performed similarly with a R-squared score of 0.80 and 0.77 and a root mean squred error of 0.06 and 0.07, respectively. The neural network performed the worst with a R-squared score of 0.65 and a root mean squared error of 0.08. Notably, all models have a low root mean squred error, implying the models predict closely to the observed value."
   ]
  },
  {
   "cell_type": "markdown",
   "metadata": {},
   "source": [
    "Q3: What models did you use and what was their R squared and RMSE on the testing set?\n",
    "\n",
    "A3: I used the linear regression model and the support vector regression. The R-squared score of the linear regression is 0.82 and the root mean squared error is 0.06. The R-squared score of the support vector regression is 0.80 and the root mean squared error of the support vector regression is 0.06."
   ]
  },
  {
   "cell_type": "code",
   "execution_count": 24,
   "metadata": {},
   "outputs": [],
   "source": [
    "import pandas as pd"
   ]
  },
  {
   "cell_type": "markdown",
   "metadata": {},
   "source": [
    "1. Load in the data"
   ]
  },
  {
   "cell_type": "code",
   "execution_count": 25,
   "metadata": {},
   "outputs": [],
   "source": [
    "admission = pd.read_csv('admissions.csv')"
   ]
  },
  {
   "cell_type": "markdown",
   "metadata": {},
   "source": [
    "2. Split data into feature frame and target frame"
   ]
  },
  {
   "cell_type": "code",
   "execution_count": 26,
   "metadata": {},
   "outputs": [],
   "source": [
    "y = admission['Chance of Admit']\n",
    "X = admission[['GRE Score','TOEFL Score','University Rating','SOP','LOR ','CGPA','Research']]"
   ]
  },
  {
   "cell_type": "markdown",
   "metadata": {},
   "source": [
    "3. Train test split"
   ]
  },
  {
   "cell_type": "code",
   "execution_count": 27,
   "metadata": {},
   "outputs": [],
   "source": [
    "from sklearn.model_selection import train_test_split"
   ]
  },
  {
   "cell_type": "code",
   "execution_count": 28,
   "metadata": {},
   "outputs": [],
   "source": [
    "X_train, X_test, y_train, y_test = train_test_split(X,y,train_size=0.8,random_state=42)"
   ]
  },
  {
   "cell_type": "markdown",
   "metadata": {},
   "source": [
    "4. Grid search"
   ]
  },
  {
   "cell_type": "code",
   "execution_count": 44,
   "metadata": {},
   "outputs": [],
   "source": [
    "from sklearn.linear_model import LinearRegression\n",
    "from sklearn.model_selection import GridSearchCV\n",
    "from sklearn.svm import SVR\n",
    "from sklearn.tree import DecisionTreeRegressor\n",
    "from sklearn.neural_network import MLPRegressor"
   ]
  },
  {
   "cell_type": "markdown",
   "metadata": {},
   "source": [
    "Define grid search function"
   ]
  },
  {
   "cell_type": "code",
   "execution_count": 39,
   "metadata": {},
   "outputs": [],
   "source": [
    "def grid_search(params, estimator, x_train, y_train):\n",
    "    gridSearch = GridSearchCV(estimator = estimator,  \n",
    "                           param_grid = params,\n",
    "                           scoring = 'neg_mean_squared_error',\n",
    "                           cv = 5,\n",
    "                           verbose=0)\n",
    "\n",
    "\n",
    "    gridSearch.fit(x_train, y_train) \n",
    "\n",
    "    estimator_params = gridSearch.best_params_\n",
    "\n",
    "    print(estimator_params)"
   ]
  },
  {
   "cell_type": "markdown",
   "metadata": {},
   "source": [
    "Find linear regression parameters"
   ]
  },
  {
   "cell_type": "code",
   "execution_count": 40,
   "metadata": {},
   "outputs": [
    {
     "name": "stdout",
     "output_type": "stream",
     "text": [
      "{'fit_intercept': True, 'positive': True}\n"
     ]
    }
   ],
   "source": [
    "parameters = {\n",
    "              \"fit_intercept\": [True, False],\n",
    "              \"positive\" : [True, False]\n",
    "             }\n",
    "grid_search(parameters,LinearRegression(),X_train,y_train)"
   ]
  },
  {
   "cell_type": "markdown",
   "metadata": {},
   "source": [
    "Find support vector regression parameters"
   ]
  },
  {
   "cell_type": "code",
   "execution_count": 41,
   "metadata": {},
   "outputs": [
    {
     "name": "stdout",
     "output_type": "stream",
     "text": [
      "{'C': 1, 'gamma': 1, 'kernel': 'linear'}\n"
     ]
    }
   ],
   "source": [
    "parameters = {\n",
    "              'C':[1,10,100,1000],\n",
    "              'gamma':[1,0.1,0.001,0.0001],\n",
    "              'kernel':['linear','rbf']}\n",
    "grid_search(parameters,SVR(),X_train,y_train)"
   ]
  },
  {
   "cell_type": "markdown",
   "metadata": {},
   "source": [
    "Find decision tree parameters"
   ]
  },
  {
   "cell_type": "code",
   "execution_count": 43,
   "metadata": {},
   "outputs": [
    {
     "name": "stdout",
     "output_type": "stream",
     "text": [
      "{'criterion': 'absolute_error', 'max_depth': None, 'max_features': 'log2', 'min_samples_leaf': 4, 'min_samples_split': 10, 'splitter': 'best'}\n"
     ]
    }
   ],
   "source": [
    "parameters = {\n",
    "              'criterion': ['squared_error', 'friedman_mse', 'absolute_error', 'poisson'],\n",
    "              'splitter': ['best', 'random'],\n",
    "              'max_depth': [None, 10, 20, 30, 40, 50],\n",
    "              'min_samples_split': [2, 5, 10],\n",
    "              'min_samples_leaf': [1, 2, 4],\n",
    "              'max_features': [None, 'sqrt', 'log2']}\n",
    "grid_search(parameters,DecisionTreeRegressor(),X_train,y_train)\n"
   ]
  },
  {
   "cell_type": "markdown",
   "metadata": {},
   "source": [
    "Find neural network parameters"
   ]
  },
  {
   "cell_type": "code",
   "execution_count": 45,
   "metadata": {},
   "outputs": [
    {
     "name": "stdout",
     "output_type": "stream",
     "text": [
      "{'activation': 'relu', 'alpha': 0.05, 'hidden_layer_sizes': (50, 50, 50), 'learning_rate': 'adaptive', 'max_iter': 1000, 'solver': 'adam'}\n"
     ]
    }
   ],
   "source": [
    "parameters = {\n",
    "    'max_iter': [1000],\n",
    "    'hidden_layer_sizes': [(50,50), (50,50,50), (100)],\n",
    "    'activation': ['relu'],\n",
    "    'solver': ['adam'],\n",
    "    'alpha': [0.0001, 0.05],\n",
    "    'learning_rate': ['constant','adaptive'],\n",
    "}\n",
    "grid_search(parameters,MLPRegressor(),X_train,y_train)\n"
   ]
  },
  {
   "cell_type": "markdown",
   "metadata": {},
   "source": [
    "Retrain with optimized parameters"
   ]
  },
  {
   "cell_type": "code",
   "execution_count": 48,
   "metadata": {},
   "outputs": [],
   "source": [
    "from sklearn.model_selection import KFold\n",
    "from sklearn.preprocessing import Normalizer\n",
    "from sklearn.metrics import r2_score\n",
    "from sklearn.metrics import mean_squared_error"
   ]
  },
  {
   "cell_type": "code",
   "execution_count": 49,
   "metadata": {},
   "outputs": [],
   "source": [
    "cv = KFold(n_splits=5, shuffle=True, random_state=42)\n",
    "\n",
    "r2Scores = []\n",
    "rmseScores = []\n",
    "\n",
    "def cross_validate(x,y,estimator):\n",
    "    for i, (train_index, test_index) in enumerate(cv.split(x, y)):\n",
    "\n",
    "        ### making training and validation sets\n",
    "        # Convert indices to list\n",
    "        train_index = train_index.tolist()\n",
    "        test_index = test_index.tolist()\n",
    "        \n",
    "        # Split the data into training and testing sets for this fold\n",
    "        xTrain, xTest = x.iloc[train_index], x.iloc[test_index]\n",
    "        yTrain, yTest = y.iloc[train_index], y.iloc[test_index]\n",
    "\n",
    "        ### feature scaling\n",
    "        xScaler = Normalizer()\n",
    "        xColNames = xTrain.columns.values.tolist()\n",
    "        # train the scaler and apply it to the training set\n",
    "        xTrainScaled = xScaler.fit_transform(xTrain[xColNames])\n",
    "        # apply the scaling to the testing set\n",
    "        xTestScaled = xScaler.transform(xTest[xColNames])\n",
    "\n",
    "        ### model training\n",
    "        # instantiate the model\n",
    "        clf = estimator\n",
    "        # Train the classifier on the training data\n",
    "        clf.fit(xTrain, yTrain)\n",
    "        \n",
    "        ### model prediction and evaluation\n",
    "        # Make predictions on the test data\n",
    "        y_pred = clf.predict(xTest)\n",
    "        \n",
    "        # Calculate metrics and store them\n",
    "        r2Score = r2_score(yTest, y_pred)\n",
    "        r2Scores.append(r2Score)\n",
    "\n",
    "        rmseScore = mean_squared_error(yTest, y_pred, squared=False)\n",
    "        rmseScores.append(rmseScore)\n",
    "\n",
    "        print(f\"Completed Fold {i}\")\n",
    "\n",
    "    ### Calculate the mean scores across all folds\n",
    "    avgR2Score = sum(r2Scores) / len(r2Scores)\n",
    "    print(\"Mean r squared score:\", avgR2Score)\n",
    "\n",
    "    avgRMSE = sum(rmseScores) / len(rmseScores)\n",
    "    print(\"Mean rmse:\", avgRMSE)"
   ]
  },
  {
   "cell_type": "markdown",
   "metadata": {},
   "source": [
    "Linear regression"
   ]
  },
  {
   "cell_type": "code",
   "execution_count": 50,
   "metadata": {},
   "outputs": [
    {
     "name": "stdout",
     "output_type": "stream",
     "text": [
      "Completed Fold 0\n",
      "Completed Fold 1\n",
      "Completed Fold 2\n",
      "Completed Fold 3\n",
      "Completed Fold 4\n",
      "Mean r squared score: 0.813033614518314\n",
      "Mean rmse: 0.06001386578600224\n"
     ]
    }
   ],
   "source": [
    "cross_validate(X_train,y_train,LinearRegression(fit_intercept=True,positive=True))"
   ]
  },
  {
   "cell_type": "markdown",
   "metadata": {},
   "source": [
    "Support vector machine"
   ]
  },
  {
   "cell_type": "code",
   "execution_count": 51,
   "metadata": {},
   "outputs": [
    {
     "name": "stdout",
     "output_type": "stream",
     "text": [
      "Completed Fold 0\n",
      "Completed Fold 1\n",
      "Completed Fold 2\n",
      "Completed Fold 3\n",
      "Completed Fold 4\n",
      "Mean r squared score: 0.798294312936136\n",
      "Mean rmse: 0.06222150293258977\n"
     ]
    }
   ],
   "source": [
    "cross_validate(X_train,y_train,SVR(C=1,gamma=1,kernel='linear'))"
   ]
  },
  {
   "cell_type": "markdown",
   "metadata": {},
   "source": [
    "Decison tree"
   ]
  },
  {
   "cell_type": "code",
   "execution_count": 52,
   "metadata": {},
   "outputs": [
    {
     "name": "stdout",
     "output_type": "stream",
     "text": [
      "Completed Fold 0\n",
      "Completed Fold 1\n",
      "Completed Fold 2\n",
      "Completed Fold 3\n",
      "Completed Fold 4\n",
      "Mean r squared score: 0.7699251364847342\n",
      "Mean rmse: 0.06627304104093519\n"
     ]
    }
   ],
   "source": [
    "cross_validate(X_train,y_train,DecisionTreeRegressor(criterion='absolute_error',max_depth=None,max_features='log2',min_samples_leaf=4,min_samples_split=10,splitter='best'))"
   ]
  },
  {
   "cell_type": "markdown",
   "metadata": {},
   "source": [
    "Neural network"
   ]
  },
  {
   "cell_type": "code",
   "execution_count": 53,
   "metadata": {},
   "outputs": [
    {
     "name": "stdout",
     "output_type": "stream",
     "text": [
      "Completed Fold 0\n",
      "Completed Fold 1\n",
      "Completed Fold 2\n",
      "Completed Fold 3\n",
      "Completed Fold 4\n",
      "Mean r squared score: 0.6510141275481585\n",
      "Mean rmse: 0.07830902903552128\n"
     ]
    }
   ],
   "source": [
    "cross_validate(X_train,y_train,MLPRegressor(activation='relu',alpha=0.05,hidden_layer_sizes=(50,50,50),learning_rate='adaptive',max_iter=1000,solver='adam'))"
   ]
  },
  {
   "cell_type": "markdown",
   "metadata": {},
   "source": [
    "Retraining linear regression model"
   ]
  },
  {
   "cell_type": "code",
   "execution_count": 56,
   "metadata": {},
   "outputs": [
    {
     "name": "stdout",
     "output_type": "stream",
     "text": [
      "0.8188432567829629\n",
      "0.060865880415783113\n"
     ]
    }
   ],
   "source": [
    "lm = LinearRegression(fit_intercept=True,positive=True)\n",
    "\n",
    "lm.fit(X_train,y_train)\n",
    "\n",
    "y_pred = lm.predict(X_test)\n",
    "\n",
    "print(r2_score(y_test,y_pred))\n",
    "print(mean_squared_error(y_test,y_pred,squared=False))"
   ]
  },
  {
   "cell_type": "code",
   "execution_count": 57,
   "metadata": {},
   "outputs": [
    {
     "name": "stdout",
     "output_type": "stream",
     "text": [
      "0.7955393040861873\n",
      "0.06466236333012791\n"
     ]
    }
   ],
   "source": [
    "svr = SVR(C=1,gamma=1,kernel='linear')\n",
    "svr.fit(X_train,y_train)\n",
    "\n",
    "y_pred = svr.predict(X_test)\n",
    "\n",
    "print(r2_score(y_test,y_pred))\n",
    "print(mean_squared_error(y_test,y_pred,squared=False))"
   ]
  }
 ],
 "metadata": {
  "kernelspec": {
   "display_name": "base",
   "language": "python",
   "name": "python3"
  },
  "language_info": {
   "codemirror_mode": {
    "name": "ipython",
    "version": 3
   },
   "file_extension": ".py",
   "mimetype": "text/x-python",
   "name": "python",
   "nbconvert_exporter": "python",
   "pygments_lexer": "ipython3",
   "version": "3.11.5"
  }
 },
 "nbformat": 4,
 "nbformat_minor": 2
}
