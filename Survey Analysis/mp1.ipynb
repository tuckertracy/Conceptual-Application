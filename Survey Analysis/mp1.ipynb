{
 "cells": [
  {
   "cell_type": "markdown",
   "metadata": {},
   "source": [
    "This Jupyter notebook is analyzing the survey data collected from my friends."
   ]
  },
  {
   "cell_type": "code",
   "execution_count": 40,
   "metadata": {},
   "outputs": [],
   "source": [
    "# import pandas and read in the survey data\n",
    "import pandas as pd\n",
    "\n",
    "original_data = pd.read_csv(\"survey_data.csv\")\n",
    "copy_data = original_data"
   ]
  },
  {
   "cell_type": "code",
   "execution_count": 41,
   "metadata": {},
   "outputs": [],
   "source": [
    "# rename the columns\n",
    "renamed_data = copy_data.rename(columns={\"Timestamp\":\"timestamp\",\n",
    "                          \"What is your major?\":\"major\",\n",
    "                          \"What is your age?\":\"age\",\n",
    "                          \"What year of college are you in?\":\"year_in_school\",\n",
    "                          \"Are you (or have you) been on a sports team at Berry?\":\"berry_athlete\",\n",
    "                          \"Check the boxes that reflect your traveling experience.\":\"travel_experience\",\n",
    "                          \"What has been one country or state you would like to highlight from your travels?\":\"place_to_highlight\",\n",
    "                          \"When you traveled, was it in the middle of semester?\":\"in_school\",\n",
    "                          \"What season of the year was it when you traveled?\":\"season_of_year\",\n",
    "                          \"What was the purpose of your travels?\":\"purpose_of_travel\",\n",
    "                          \"Why did you travel at the time of year you did?\":\"why_travel\",\n",
    "                          \"By what means did you travel?\":\"means_of_travel\"})"
   ]
  },
  {
   "cell_type": "markdown",
   "metadata": {},
   "source": [
    "Q1: What are the percentages of the demographics?"
   ]
  },
  {
   "cell_type": "code",
   "execution_count": 42,
   "metadata": {},
   "outputs": [],
   "source": [
    "# get rid of extra spaces\n",
    "renamed_data['major'] = copy_data['What is your major?'].str.strip()\n",
    "\n",
    "# make all the entries lower case\n",
    "renamed_data['major'] = renamed_data['major'].str.lower()"
   ]
  },
  {
   "cell_type": "code",
   "execution_count": 61,
   "metadata": {},
   "outputs": [
    {
     "data": {
      "text/plain": [
       "27"
      ]
     },
     "execution_count": 61,
     "metadata": {},
     "output_type": "execute_result"
    }
   ],
   "source": [
    "# make a set of all the entries\n",
    "majors = set(renamed_data['major'].tolist())\n",
    "len(majors)"
   ]
  },
  {
   "cell_type": "code",
   "execution_count": 44,
   "metadata": {},
   "outputs": [],
   "source": [
    "# find 'com' entries\n",
    "com_entry = renamed_data['major'].where(renamed_data['major']=='com').dropna()\n",
    "\n",
    "# get index of 'com' entries\n",
    "com_index = com_entry.index\n",
    "\n",
    "# change value of 'com' entries to communications\n",
    "renamed_data.loc[com_index,'major'] = 'communications'"
   ]
  },
  {
   "cell_type": "code",
   "execution_count": 45,
   "metadata": {},
   "outputs": [],
   "source": [
    "# find 'sports admin' entries\n",
    "sports_admin_entry = renamed_data['major'].where(renamed_data['major']=='sports admin').dropna()\n",
    "\n",
    "# get index of 'sports admin' entries\n",
    "sports_index = sports_admin_entry.index\n",
    "\n",
    "# change value of 'sports admin' entries to sports administration\n",
    "renamed_data.loc[sports_index,'major'] = 'sports administration'"
   ]
  },
  {
   "cell_type": "code",
   "execution_count": 46,
   "metadata": {},
   "outputs": [
    {
     "data": {
      "text/plain": [
       "{'exercise science': 11.364,\n",
       " 'creative technologies': 6.818,\n",
       " 'nursing': 6.818,\n",
       " 'computer science': 6.818,\n",
       " 'animal science': 6.818,\n",
       " 'economics': 4.545,\n",
       " 'sports administration': 4.545,\n",
       " 'biology': 4.545,\n",
       " 'computer science and creative technologies': 4.545,\n",
       " 'accounting': 4.545,\n",
       " 'secondary education and history': 2.273,\n",
       " 'biochemistry': 2.273,\n",
       " 'data analytics': 2.273,\n",
       " 'political science': 2.273,\n",
       " 'communication and environmental studies': 2.273,\n",
       " 'business management': 2.273,\n",
       " 'psychology': 2.273,\n",
       " 'management': 2.273,\n",
       " 'math and computer science': 2.273,\n",
       " 'data science': 2.273,\n",
       " 'faculty': 2.273,\n",
       " 'finance': 2.273,\n",
       " 'anthropology': 2.273,\n",
       " 'elementary education': 2.273,\n",
       " 'sports leadership and strategy': 2.273,\n",
       " 'biology/religion': 2.273,\n",
       " 'com': 0.0,\n",
       " 'sports admin': 0.0}"
      ]
     },
     "execution_count": 46,
     "metadata": {},
     "output_type": "execute_result"
    }
   ],
   "source": [
    "# create dictionary of majors and their percentage\n",
    "\n",
    "# get total entries\n",
    "total = len(renamed_data)\n",
    "\n",
    "# create emppty dictionary\n",
    "major_dict = {}\n",
    "\n",
    "# for a major in the set of majors\n",
    "for current_major in majors:\n",
    "\n",
    "    # set current major count to 0\n",
    "    major_count = 0\n",
    "\n",
    "    # loop through the majors in the original data\n",
    "    for major_data in renamed_data['major']:\n",
    "\n",
    "        # if the current major is equal to the major in the data\n",
    "        if current_major == major_data:\n",
    "\n",
    "            # increment major count by 1\n",
    "            major_count+=1\n",
    "    \n",
    "    # add a new key value pair for each major in the set of majors\n",
    "    major_dict[current_major] = round((major_count/total)*100,3)\n",
    "\n",
    "# sort the dictionary based value in descending order\n",
    "sorted_dict = dict(sorted(major_dict.items(),key = lambda x : x[1],reverse=True))\n",
    "\n",
    "sorted_dict"
   ]
  },
  {
   "cell_type": "code",
   "execution_count": 47,
   "metadata": {},
   "outputs": [
    {
     "data": {
      "text/plain": [
       "major\n",
       "exercise science                              11.364\n",
       "nursing                                        6.818\n",
       "animal science                                 6.818\n",
       "computer science                               6.818\n",
       "creative technologies                          6.818\n",
       "sports administration                          4.545\n",
       "accounting                                     4.545\n",
       "economics                                      4.545\n",
       "computer science and creative technologies     4.545\n",
       "biology                                        4.545\n",
       "biochemistry                                   2.273\n",
       "data science                                   2.273\n",
       "data analytics                                 2.273\n",
       "sports leadership and strategy                 2.273\n",
       "anthropology                                   2.273\n",
       "management                                     2.273\n",
       "communications                                 2.273\n",
       "faculty                                        2.273\n",
       "communication and environmental studies        2.273\n",
       "psychology                                     2.273\n",
       "math and computer science                      2.273\n",
       "elementary education                           2.273\n",
       "biology/religion                               2.273\n",
       "business management                            2.273\n",
       "political science                              2.273\n",
       "secondary education and history                2.273\n",
       "finance                                        2.273\n",
       "Name: count, dtype: float64"
      ]
     },
     "execution_count": 47,
     "metadata": {},
     "output_type": "execute_result"
    }
   ],
   "source": [
    "# easier way to do what I did above\n",
    "major_counts = round(((renamed_data['major'].value_counts())/total)*100,3)\n",
    "major_counts"
   ]
  },
  {
   "cell_type": "code",
   "execution_count": 48,
   "metadata": {},
   "outputs": [
    {
     "data": {
      "text/plain": [
       "age\n",
       "21    43.182\n",
       "20    40.909\n",
       "22     6.818\n",
       "19     4.545\n",
       "29     2.273\n",
       "18     2.273\n",
       "Name: count, dtype: float64"
      ]
     },
     "execution_count": 48,
     "metadata": {},
     "output_type": "execute_result"
    }
   ],
   "source": [
    "# find the percentage of people of a given age\n",
    "age_counts = round((renamed_data['age'].value_counts()/total)*100,3)\n",
    "age_counts"
   ]
  },
  {
   "cell_type": "code",
   "execution_count": 60,
   "metadata": {},
   "outputs": [
    {
     "data": {
      "text/plain": [
       "20.681818181818183"
      ]
     },
     "execution_count": 60,
     "metadata": {},
     "output_type": "execute_result"
    }
   ],
   "source": [
    "# mean age of respondents\n",
    "renamed_data['age'].mean()"
   ]
  },
  {
   "cell_type": "code",
   "execution_count": 49,
   "metadata": {},
   "outputs": [
    {
     "data": {
      "text/plain": [
       "year_in_school\n",
       "Junior       72.727\n",
       "Senior       13.636\n",
       "Sophomore     6.818\n",
       "Senior+       4.545\n",
       "Freshman      2.273\n",
       "Name: count, dtype: float64"
      ]
     },
     "execution_count": 49,
     "metadata": {},
     "output_type": "execute_result"
    }
   ],
   "source": [
    "# find percentage of the population in a given year of school\n",
    "year_counts = round((renamed_data['year_in_school'].value_counts()/total)*100,3)\n",
    "year_counts"
   ]
  },
  {
   "cell_type": "code",
   "execution_count": 50,
   "metadata": {},
   "outputs": [
    {
     "data": {
      "text/plain": [
       "berry_athlete\n",
       "Yes    59.091\n",
       "No     40.909\n",
       "Name: count, dtype: float64"
      ]
     },
     "execution_count": 50,
     "metadata": {},
     "output_type": "execute_result"
    }
   ],
   "source": [
    "# percentage of people who have been on an athletics team at Berry\n",
    "team_counts = round((renamed_data['berry_athlete'].value_counts()/total)*100,3)\n",
    "team_counts"
   ]
  },
  {
   "cell_type": "markdown",
   "metadata": {},
   "source": [
    "Q2: What percentage of users checked each reply for their travel experiences?"
   ]
  },
  {
   "cell_type": "code",
   "execution_count": 51,
   "metadata": {},
   "outputs": [
    {
     "data": {
      "text/plain": [
       "{'South America': 25.0,\n",
       " 'The Caribbean': 25.0,\n",
       " 'Never been outside the United States': 15.91,\n",
       " 'Asia': 11.36,\n",
       " 'Europe': 11.36,\n",
       " 'Africa': 4.55,\n",
       " 'Canada': 4.55,\n",
       " 'Mexico': 2.27,\n",
       " 'The Middle-East': 0.0}"
      ]
     },
     "execution_count": 51,
     "metadata": {},
     "output_type": "execute_result"
    }
   ],
   "source": [
    "# split the entries into a list\n",
    "places_traveled = renamed_data['travel_experience'].str.split(',')\n",
    "\n",
    "# make a list that contains all the options available to the user\n",
    "places = ['Asia','South America','The Caribbean','The Middle-East','Europe','Africa',\n",
    "                   'Canada','Mexico','Never been outside the United States']\n",
    "\n",
    "# create a dictionary to store the places and the number of users who selected it\n",
    "places_dict = {}\n",
    "\n",
    "# loop through the list of options\n",
    "for current_place in places:\n",
    "\n",
    "    # set current place count to 0\n",
    "    place_count = 0\n",
    "\n",
    "    # loop through all the entries from the survey\n",
    "    for entry in places_traveled:\n",
    "\n",
    "        # if an entry contains the current place\n",
    "        if current_place in entry:\n",
    "\n",
    "            # increase current place count by 1\n",
    "            place_count+=1\n",
    "    \n",
    "    # store key,value pair in ther dictionary\n",
    "    places_dict[current_place] = round((place_count/total)*100,2)\n",
    "\n",
    "# sort the array in descending order\n",
    "dict(sorted(places_dict.items(),key = lambda x : x[1],reverse=True))"
   ]
  },
  {
   "cell_type": "markdown",
   "metadata": {},
   "source": [
    "Q3: What is the percentage of people have been where?"
   ]
  },
  {
   "cell_type": "code",
   "execution_count": 62,
   "metadata": {},
   "outputs": [
    {
     "data": {
      "text/plain": [
       "place_to_highlight\n",
       "brazil                9.09\n",
       "utah                  6.82\n",
       "spain                 6.82\n",
       "mexico                4.55\n",
       "thailand              4.55\n",
       "south africa          4.55\n",
       "italy                 4.55\n",
       "wyoming               4.55\n",
       "dominican republic    4.55\n",
       "norway                2.27\n",
       "nigeria               2.27\n",
       "jamaica               2.27\n",
       "montana               2.27\n",
       "switzerland           2.27\n",
       "texas                 2.27\n",
       "france/england        2.27\n",
       "bahamas               2.27\n",
       "cambodia              2.27\n",
       "new york              2.27\n",
       "canada                2.27\n",
       "united kingdom        2.27\n",
       "costa rica            2.27\n",
       "peru                  2.27\n",
       "california            2.27\n",
       "guatemala             2.27\n",
       "greece                2.27\n",
       "netherlands           2.27\n",
       "colorado              2.27\n",
       "poland                2.27\n",
       "puerto rico           2.27\n",
       "honduras              2.27\n",
       "Name: count, dtype: float64"
      ]
     },
     "execution_count": 62,
     "metadata": {},
     "output_type": "execute_result"
    }
   ],
   "source": [
    "# get rid of any extra space\n",
    "renamed_data['place_to_highlight'] = renamed_data['place_to_highlight'].str.strip()\n",
    "\n",
    "# make all entries lower case\n",
    "renamed_data['place_to_highlight'] = renamed_data['place_to_highlight'].str.lower()\n",
    "\n",
    "# get the index of weird entry\n",
    "long_entry_index = renamed_data['place_to_highlight'].where(\n",
    "    renamed_data['place_to_highlight']==\n",
    "    'i’ve only been to dominican republic other than the us. cool place though'\n",
    ").dropna().index\n",
    "\n",
    "# change value\n",
    "renamed_data.loc[(long_entry_index,'place_to_highlight')] = 'dominican republic'\n",
    "\n",
    "canada_index = renamed_data['place_to_highlight'].where(\n",
    "    renamed_data['place_to_highlight']==\n",
    "    'canadá'\n",
    ").dropna().index\n",
    "\n",
    "renamed_data.loc[(canada_index,'place_to_highlight')] = 'canada'\n",
    "\n",
    "\n",
    "set(renamed_data['place_to_highlight'])\n",
    "\n",
    "place_highlighted_count = renamed_data['place_to_highlight'].value_counts()\n",
    "\n",
    "round((place_highlighted_count/total)*100,2)"
   ]
  },
  {
   "cell_type": "code",
   "execution_count": 53,
   "metadata": {},
   "outputs": [
    {
     "data": {
      "text/plain": [
       "31"
      ]
     },
     "execution_count": 53,
     "metadata": {},
     "output_type": "execute_result"
    }
   ],
   "source": [
    "# get count of places traveled to\n",
    "len(place_highlighted_count)"
   ]
  },
  {
   "cell_type": "markdown",
   "metadata": {},
   "source": [
    "Q4: What percentage of people traveled during the semester and what percentage of people did not?"
   ]
  },
  {
   "cell_type": "code",
   "execution_count": 54,
   "metadata": {},
   "outputs": [
    {
     "data": {
      "text/plain": [
       "in_school\n",
       "No     84.09\n",
       "Yes    15.91\n",
       "Name: count, dtype: float64"
      ]
     },
     "execution_count": 54,
     "metadata": {},
     "output_type": "execute_result"
    }
   ],
   "source": [
    "# get the percentage of in school vs. out\n",
    "school_counts = renamed_data['in_school'].value_counts()\n",
    "round((school_counts/total)*100,2)"
   ]
  },
  {
   "cell_type": "markdown",
   "metadata": {},
   "source": [
    "Q5: What was the percentage of people that traveled during each season?"
   ]
  },
  {
   "cell_type": "code",
   "execution_count": 55,
   "metadata": {},
   "outputs": [
    {
     "data": {
      "text/plain": [
       "season_of_year\n",
       "Summer    75.00\n",
       "Winter    13.64\n",
       "Spring     6.82\n",
       "Fall       4.55\n",
       "Name: count, dtype: float64"
      ]
     },
     "execution_count": 55,
     "metadata": {},
     "output_type": "execute_result"
    }
   ],
   "source": [
    "# get the percentage of each season\n",
    "season_counts = renamed_data['season_of_year'].value_counts()\n",
    "round((season_counts/total)*100,2)"
   ]
  },
  {
   "cell_type": "markdown",
   "metadata": {},
   "source": [
    "Q6: What was the purpose of travel?"
   ]
  },
  {
   "cell_type": "code",
   "execution_count": 56,
   "metadata": {},
   "outputs": [
    {
     "data": {
      "text/plain": [
       "purpose_of_travel\n",
       "Vacation                                  38.64\n",
       "Ministry                                  18.18\n",
       "Visit Family                              13.64\n",
       "Study Abroad                              11.36\n",
       "Athletic Event                             6.82\n",
       "Family wedding                             2.27\n",
       "YoungLife                                  2.27\n",
       "Wedding                                    2.27\n",
       "Faculty coordinator for an abroad trip     2.27\n",
       "To Go Home                                 2.27\n",
       "Name: count, dtype: float64"
      ]
     },
     "execution_count": 56,
     "metadata": {},
     "output_type": "execute_result"
    }
   ],
   "source": [
    "# get the percentage of each purpose response\n",
    "purpose_counts = renamed_data['purpose_of_travel'].value_counts()\n",
    "round(purpose_counts/total*100,2)"
   ]
  },
  {
   "cell_type": "markdown",
   "metadata": {},
   "source": [
    "Q7: Why did people travel when they did?"
   ]
  },
  {
   "cell_type": "code",
   "execution_count": 57,
   "metadata": {},
   "outputs": [
    {
     "data": {
      "text/plain": [
       "why_travel\n",
       "out of school                               59.09\n",
       "i had no say in when the travel occurred    18.18\n",
       "better weather                               9.09\n",
       "team was in-season                           4.55\n",
       "class                                        2.27\n",
       "that’s when the wedding was                  2.27\n",
       "during covid                                 2.27\n",
       "during my study abroad term                  2.27\n",
       "Name: count, dtype: float64"
      ]
     },
     "execution_count": 57,
     "metadata": {},
     "output_type": "execute_result"
    }
   ],
   "source": [
    "# get the percentage of each why response\n",
    "renamed_data['why_travel'] = renamed_data['why_travel'].str.lower()\n",
    "round((renamed_data['why_travel'].value_counts()/total)*100,2)"
   ]
  },
  {
   "cell_type": "markdown",
   "metadata": {},
   "source": [
    "Q7: By what means did people travel?"
   ]
  },
  {
   "cell_type": "code",
   "execution_count": 58,
   "metadata": {},
   "outputs": [
    {
     "data": {
      "text/plain": [
       "means_of_travel\n",
       "airplane           39\n",
       "cruise              2\n",
       "automobile          2\n",
       "plane and train     1\n",
       "Name: count, dtype: int64"
      ]
     },
     "execution_count": 58,
     "metadata": {},
     "output_type": "execute_result"
    }
   ],
   "source": [
    "# make all entries lowercase\n",
    "renamed_data['means_of_travel'] = renamed_data['means_of_travel'].str.lower()\n",
    "\n",
    "# find 'cruise line' entry\n",
    "cruise_line_index = renamed_data.where(renamed_data['means_of_travel']=='cruise line').dropna().index\n",
    "\n",
    "# change entry to 'cruise'\n",
    "renamed_data.loc[cruise_line_index,'means_of_travel'] = 'cruise'\n",
    "\n",
    "# get the count of each means of travel\n",
    "renamed_data['means_of_travel'].value_counts()"
   ]
  }
 ],
 "metadata": {
  "kernelspec": {
   "display_name": "base",
   "language": "python",
   "name": "python3"
  },
  "language_info": {
   "codemirror_mode": {
    "name": "ipython",
    "version": 3
   },
   "file_extension": ".py",
   "mimetype": "text/x-python",
   "name": "python",
   "nbconvert_exporter": "python",
   "pygments_lexer": "ipython3",
   "version": "3.11.5"
  }
 },
 "nbformat": 4,
 "nbformat_minor": 2
}
